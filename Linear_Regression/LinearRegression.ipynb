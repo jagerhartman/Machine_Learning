{
 "cells": [
  {
   "cell_type": "markdown",
   "metadata": {},
   "source": [
    "# Linear Regression in Python"
   ]
  },
  {
   "cell_type": "code",
   "execution_count": 1,
   "metadata": {
    "collapsed": true
   },
   "outputs": [],
   "source": [
    "import numpy as np\n",
    "import pandas as pd\n",
    "import matplotlib.pyplot as plt\n",
    "%matplotlib inline"
   ]
  },
  {
   "cell_type": "markdown",
   "metadata": {},
   "source": [
    "### What is linear regression?\n",
    "Suppose we have a data set with some $\\bf{y}$ variable and some $\\bf{x}$ variable.\n",
    "* The $\\bf{x}$ variable can represent one column of data in your table or multiple columns. \n",
    "* The $\\bf{x}$ variable is referred to as the *feature*, *explanatory* or *independent* variable.\n",
    "* The $\\bf{y}$ variable is referred to as the *target*, *response* or *dependent* variable.  \n",
    "\n",
    "There are a lot of different terms which denote an $\\bf{x}$ and a $\\bf{y}$ term depending on what field you're in.  \n",
    "What we care about is the relationship between $\\bf{x}$ and $\\bf{y}$.\n",
    "\n",
    "In general, we want to know if $\\bf{x}$ and $\\bf{y}$ correlate with one another.  Note that this $\\bf{does{\\ }not}$ imply causation.  When the value of $\\bf{x}$ changes, how does the value of $\\bf{y}$ change and how *sure* are the stats that $\\bf{x}$ and $\\bf{y}$ are related in this way?  We want to determine some function such that $\\bf{y}$ = f($\\bf{x}$).  \n",
    "\n",
    "The simplest approach to this would be to say that $\\bf{y}$ = mean($\\bf{y}$).  That is, for all values of $\\bf{x}$, we assign $\\bf{y}$ the mean value.  \n",
    "Doing so looks something like the graph that follows."
   ]
  },
  {
   "cell_type": "code",
   "execution_count": 2,
   "metadata": {
    "collapsed": false
   },
   "outputs": [
    {
     "data": {
      "image/png": "[encoded data removed]",
      "text/plain": [
       "<matplotlib.figure.Figure at 0x952fd68>"
      ]
     },
     "metadata": {},
     "output_type": "display_data"
    }
   ],
   "source": [
    "#Generate random x and y variables\n",
    "x = np.random.standard_normal(100)\n",
    "y = np.random.standard_normal(100)\n",
    "#Plot a scatter plot of x,y and the line representing the mean\n",
    "fig, ax = plt.subplots(1,1)\n",
    "ax.scatter(x,y)\n",
    "ax.plot([min(x), max(x)], [np.mean(y), np.mean(y)], 'r--')\n",
    "plt.show()"
   ]
  },
  {
   "cell_type": "markdown",
   "metadata": {},
   "source": [
    "The above graph shows a way to describe $\\bf{y}$ with respect to $\\bf{x}$; however, we completely miss out on the information contained in $\\bf{x}$ with such a simple model.  Keeping it simple but also taking advantage of the information contained in $\\bf{x}$, it makes sense to draw a line through the data points with varying slope and intercept.  \n",
    "\n",
    "In other words, we can rotate the line and move (translate) the line respectively.  To find this line, we want to determine, or *learn*, two values, m and b, such that $\\bf{y}$ = m$\\bf{x}$ + b within some margin of error.\n",
    "\n",
    "Below shows a line drawn with the specified m and b values.  The data are generated to follow a line of $\\bf{y}$ = 2$\\bf{x}$ + 1.  Change the values of m and b to see how the line changes.  What line best fits these data?"
   ]
  },
  {
   "cell_type": "code",
   "execution_count": 3,
   "metadata": {
    "collapsed": false
   },
   "outputs": [
    {
     "data": {
      "image/png": "[encoded data removed]",
      "text/plain": [
       "<matplotlib.figure.Figure at 0x8b06518>"
      ]
     },
     "metadata": {},
     "output_type": "display_data"
    }
   ],
   "source": [
    "m = 5\n",
    "b = 3\n",
    "\n",
    "x = np.random.standard_normal(100)\n",
    "y = 2 * x + 1 + np.random.standard_normal(100)\n",
    "\n",
    "fig, ax = plt.subplots(1,1)\n",
    "ax.scatter(x,y)\n",
    "ax.plot([min(x), max(x)], [m*min(x)+b, m*max(x)+b], 'r--')\n",
    "plt.show()"
   ]
  },
  {
   "cell_type": "markdown",
   "metadata": {},
   "source": [
    "### How to gauge model performance\n",
    "\n",
    "Once our model is created, how can we gauge how well this model works?  The most popular metric to determine how well a linear regression model fits the data is the $R^2$ value.  The value $R^2$ relates to the correlation of $\\bf{x}$ and $\\bf{y}$.  The $R^2$ coefficient, or coefficient of determination, gives us an idea of how well the model improves upon just taking the mean of $\\bf{y}$ as seen above.  The $R^2$ calculation is as follows\n",
    "* Total sum of squares: $SS_{tot}$ = $\\sum_{i=1}^n (y_i - \\bar{y})^2$\n",
    "$${\\ }$$\n",
    "* Explained sum of squares: $SS_{reg}$ = $\\sum_{i=1}^n (mx_i + b - \\bar{y})^2$\n",
    "$${\\ }$$\n",
    "* Residual sum of squares: $SS_{res}$ = $\\sum_{i=1}^n (mx_i + b - y_i)^2$\n",
    "\n",
    "$$R^2 = 1 - \\frac{SS_{res}}{SS_{tot}}$$\n",
    "\n",
    "The total sum of squares measures how far each y value deviates from the mean of all of the y's.  The explained sum of squares shows how much a linear model improves on the original model where only the mean of $\\bf{y}$ is used.  The residual sum of squares measures the error of our linear model.  \n",
    "\n",
    "An alternative approach is to use the Mean Squared Error (MSE) or the Root Mean Squared Error (RMSE) which can be used for models other than linear regression models.\n",
    "\n",
    "* Mean Squared Error: MSE = $\\sum_{i=1}^n \\left[y_i - (mx_i + b) \\right]^2$\n",
    "$${\\ }$$\n",
    "* Root Mean Squared Error: RMSE = $\\sqrt{MSE}$"
   ]
  },
  {
   "cell_type": "markdown",
   "metadata": {},
   "source": [
    "### Generate Data\n",
    "First, we need some data to work with.  To generate the data we use numpy's random library\n",
    "\n",
    "Linear regression assumes the data are normally distributed.  Below we generate data\n",
    "such that $\\bf{x}$ is sampled from the standard normal (mean 0, variance 1)\n",
    "* Generate data so $\\bf{x}$ ~ N(0, 1), $\\bf{y}$ ~ N(m$\\bf{x}$ + b, 1)\n",
    "* The mean of the $\\bf{x}$ distribution is 0 with variance 1\n",
    "* The mean of the $\\bf{y}$ distribution is m$\\bf{x}$ + b with variance 1"
   ]
  },
  {
   "cell_type": "code",
   "execution_count": 4,
   "metadata": {
    "collapsed": false
   },
   "outputs": [
    {
     "data": {
      "image/png": "[encoded data removed]",
      "text/plain": [
       "<matplotlib.figure.Figure at 0x952fba8>"
      ]
     },
     "metadata": {},
     "output_type": "display_data"
    }
   ],
   "source": [
    "plt.hist(np.random.standard_normal(10000), bins = np.linspace(-4,4, 100))\n",
    "plt.show()"
   ]
  },
  {
   "cell_type": "code",
   "execution_count": 5,
   "metadata": {
    "collapsed": false,
    "scrolled": true
   },
   "outputs": [
    {
     "data": {
      "image/png": "[encoded data removed]",
      "text/plain": [
       "<matplotlib.figure.Figure at 0xa84fcc0>"
      ]
     },
     "metadata": {},
     "output_type": "display_data"
    }
   ],
   "source": [
    "def generate_data(n, m = 1, b=0):\n",
    "    \"\"\"\n",
    "    Parameters\n",
    "    ----------\n",
    "    n     :    integer, number of points to generate\n",
    "    m     :    float, slope of the line\n",
    "    b     :    float, intercept of the line\n",
    "    \n",
    "    Returns\n",
    "    -------\n",
    "    numpy arrays of x and y values normally distributed around the specified line\n",
    "    \"\"\"\n",
    "    #generate random x values\n",
    "    x = np.random.standard_normal(n)\n",
    "    y = m *x + b + np.random.standard_normal(n)\n",
    "    return x, y\n",
    "\n",
    "def plot_xy(x, y, color = 'blue', size = 1.0, ax = None):\n",
    "    if ax:\n",
    "        ax.scatter(x,y)\n",
    "    else:\n",
    "        fig = plt.figure(figsize=(5,5))\n",
    "        ax = fig.add_subplot(1,1,1)\n",
    "        ax.scatter(x,y)\n",
    "        return ax\n",
    "    \n",
    "def calculate_r2(y, y_pred):\n",
    "    ss_tot = np.sum((y - np.mean(y))**2)\n",
    "    ss_res = np.sum((y_pred - y)**2)\n",
    "    return 1 - ss_res / ss_tot\n",
    "    \n",
    "x, y = generate_data(100)\n",
    "ax = plot_xy(x,y)\n",
    "plt.show()"
   ]
  },
  {
   "cell_type": "code",
   "execution_count": 6,
   "metadata": {
    "collapsed": true
   },
   "outputs": [],
   "source": [
    "x, y = generate_data(100, m = 2, b = 1)"
   ]
  },
  {
   "cell_type": "markdown",
   "metadata": {},
   "source": [
    "### Linear regression with sklearn"
   ]
  },
  {
   "cell_type": "code",
   "execution_count": 7,
   "metadata": {
    "collapsed": false
   },
   "outputs": [],
   "source": [
    "from sklearn import linear_model\n",
    "from sklearn.metrics import r2_score"
   ]
  },
  {
   "cell_type": "code",
   "execution_count": 8,
   "metadata": {
    "collapsed": false
   },
   "outputs": [
    {
     "name": "stdout",
     "output_type": "stream",
     "text": [
      "('m:', 2.0379050332189599, ' b:', 1.1126070560620831, '\\n')\n",
      "Mean squared error: 1.18\n",
      "R2 from custom function: 0.8058\n",
      "R2 from sklearn: 0.8058\n",
      "Wall time: 1e+03 µs\n"
     ]
    }
   ],
   "source": [
    "%%time\n",
    "lm = linear_model.LinearRegression()\n",
    "lm.fit(x.reshape(-1,1),y)\n",
    "m, b = lm.coef_[0], lm.intercept_\n",
    "\n",
    "print('m:', m,' b:', b, '\\n')\n",
    "\n",
    "print(\"Mean squared error: %.2f\"\n",
    "      % np.mean((lm.predict(x.reshape(-1,1)) - y) ** 2))\n",
    "print(\"R2 from custom function: %.4f\"\n",
    "      % calculate_r2(y, m*x+b))\n",
    "print(\"R2 from sklearn: %.4f\"\n",
    "      % r2_score(y, m*x+b))"
   ]
  },
  {
   "cell_type": "markdown",
   "metadata": {},
   "source": [
    "### Linear regression with numpy\n",
    "First using a *Vandermonde* matrix, the second using a vector of x values and y values.  The *Vandermonde* matrix requires we specify the intercept variable as a column of 1's."
   ]
  },
  {
   "cell_type": "code",
   "execution_count": null,
   "metadata": {
    "collapsed": true
   },
   "outputs": [],
   "source": [
    "import numpy as np"
   ]
  },
  {
   "cell_type": "code",
   "execution_count": 9,
   "metadata": {
    "collapsed": false
   },
   "outputs": [
    {
     "name": "stdout",
     "output_type": "stream",
     "text": [
      "('m:', 2.0379050332189621, ' b:', 1.1126070560620835, '\\n')\n",
      "Mean squared error: 1.18\n",
      "R2 from custom function: 0.8058\n",
      "R2 from sklearn: 0.8058\n",
      "Wall time: 1 ms\n"
     ]
    }
   ],
   "source": [
    "%%time\n",
    "A = np.vstack([x, np.ones(len(x))]).T\n",
    "lm = np.linalg.lstsq(A,y)\n",
    "[m, b] = lm[0]\n",
    "\n",
    "print('m:', m,' b:', b, '\\n')\n",
    "print(\"Mean squared error: %.2f\"\n",
    "      % np.mean((x*m + b - y) ** 2))\n",
    "print(\"R2 from custom function: %.4f\"\n",
    "      % calculate_r2(y, m*x+b))\n",
    "print(\"R2 from sklearn: %.4f\"\n",
    "      % r2_score(y, m*x+b))"
   ]
  },
  {
   "cell_type": "code",
   "execution_count": 18,
   "metadata": {
    "collapsed": false
   },
   "outputs": [
    {
     "name": "stdout",
     "output_type": "stream",
     "text": [
      "('m:', -0.057173025839896488, 2.0507038062841314, ' b:', 1.1794142123634859, '\\n')\n",
      "Mean squared error: 1.19\n",
      "R2 from custom function: 0.8051\n",
      "R2 from sklearn: 0.8051\n",
      "Wall time: 2 ms\n"
     ]
    }
   ],
   "source": [
    "%%time\n",
    "[m_1, m_2, b] = np.polyfit(x,y,2)\n",
    "\n",
    "print('m:', m_1, m_2,' b:', b, '\\n')\n",
    "print(\"Mean squared error: %.2f\"\n",
    "      % np.mean((x*m + b - y) ** 2))\n",
    "print(\"R2 from custom function: %.4f\"\n",
    "      % calculate_r2(y, m*x+b))\n",
    "print(\"R2 from sklearn: %.4f\"\n",
    "      % r2_score(y, m*x+b))"
   ]
  },
  {
   "cell_type": "code",
   "execution_count": 22,
   "metadata": {
    "collapsed": false
   },
   "outputs": [
    {
     "data": {
      "image/png": "[encoded data removed]",
      "text/plain": [
       "<matplotlib.figure.Figure at 0xd9aa978>"
      ]
     },
     "metadata": {},
     "output_type": "display_data"
    }
   ],
   "source": [
    "x_line = np.linspace(-3,3,1000)\n",
    "ax = plot_xy(x,y)\n",
    "ax.plot(x_line, b + m_2*x_line + m_1*x_line**2, 'r')\n",
    "plt.show()"
   ]
  },
  {
   "cell_type": "markdown",
   "metadata": {},
   "source": [
    "### Linear regression with pandas"
   ]
  },
  {
   "cell_type": "code",
   "execution_count": 11,
   "metadata": {
    "collapsed": false
   },
   "outputs": [
    {
     "name": "stderr",
     "output_type": "stream",
     "text": [
      "C:\\ProgramData\\Anaconda2\\lib\\site-packages\\IPython\\core\\interactiveshell.py:2881: FutureWarning: The pandas.stats.ols module is deprecated and will be removed in a future version. We refer to external packages like statsmodels, see some examples here: http://www.statsmodels.org/stable/regression.html\n",
      "  exec(code_obj, self.user_global_ns, self.user_ns)\n"
     ]
    },
    {
     "name": "stdout",
     "output_type": "stream",
     "text": [
      "\n",
      "-------------------------Summary of Regression Analysis-------------------------\n",
      "\n",
      "Formula: Y ~ <x> + <intercept>\n",
      "\n",
      "Number of Observations:         100\n",
      "Number of Degrees of Freedom:   2\n",
      "\n",
      "R-squared:         0.8058\n",
      "Adj R-squared:     0.8038\n",
      "\n",
      "Rmse:              1.0977\n",
      "\n",
      "F-stat (1, 98):   406.6119, p-value:     0.0000\n",
      "\n",
      "Degrees of Freedom: model 1, resid 98\n",
      "\n",
      "-----------------------Summary of Estimated Coefficients------------------------\n",
      "      Variable       Coef    Std Err     t-stat    p-value    CI 2.5%   CI 97.5%\n",
      "--------------------------------------------------------------------------------\n",
      "             x     2.0379     0.1011      20.16     0.0000     1.8398     2.2360\n",
      "     intercept     1.1126     0.1100      10.11     0.0000     0.8969     1.3283\n",
      "---------------------------------End of Summary---------------------------------\n",
      "\n"
     ]
    }
   ],
   "source": [
    "#Requires statsmodels package\n",
    "from pandas.stats.api import ols\n",
    "df = pd.DataFrame({\"Y\": y, \"X\": x})\n",
    "lm = ols(y=df['Y'], x=df['X'])\n",
    "print(lm)"
   ]
  },
  {
   "cell_type": "markdown",
   "metadata": {},
   "source": [
    "### Linear regression with stats model OLS"
   ]
  },
  {
   "cell_type": "code",
   "execution_count": 13,
   "metadata": {
    "collapsed": false
   },
   "outputs": [
    {
     "name": "stdout",
     "output_type": "stream",
     "text": [
      "                            OLS Regression Results                            \n",
      "==============================================================================\n",
      "Dep. Variable:                      Y   R-squared:                       0.806\n",
      "Model:                            OLS   Adj. R-squared:                  0.804\n",
      "Method:                 Least Squares   F-statistic:                     406.6\n",
      "Date:                Mon, 07 Aug 2017   Prob (F-statistic):           1.19e-36\n",
      "Time:                        15:11:43   Log-Likelihood:                -150.21\n",
      "No. Observations:                 100   AIC:                             304.4\n",
      "Df Residuals:                      98   BIC:                             309.6\n",
      "Df Model:                           1                                         \n",
      "Covariance Type:            nonrobust                                         \n",
      "==============================================================================\n",
      "                 coef    std err          t      P>|t|      [0.025      0.975]\n",
      "------------------------------------------------------------------------------\n",
      "Intercept      1.1126      0.110     10.111      0.000       0.894       1.331\n",
      "X              2.0379      0.101     20.165      0.000       1.837       2.238\n",
      "==============================================================================\n",
      "Omnibus:                        2.889   Durbin-Watson:                   2.096\n",
      "Prob(Omnibus):                  0.236   Jarque-Bera (JB):                2.541\n",
      "Skew:                          -0.291   Prob(JB):                        0.281\n",
      "Kurtosis:                       2.480   Cond. No.                         1.12\n",
      "==============================================================================\n",
      "\n",
      "Warnings:\n",
      "[1] Standard Errors assume that the covariance matrix of the errors is correctly specified.\n"
     ]
    }
   ],
   "source": [
    "import statsmodels.formula.api as statsmodels\n",
    "df = pd.DataFrame({\"X\": x, \"Y\": y})\n",
    "lm = statsmodels.ols(formula=\"Y ~ X\", data=df).fit()\n",
    "print(lm.summary())"
   ]
  },
  {
   "cell_type": "markdown",
   "metadata": {},
   "source": [
    "### Plotting trend lines"
   ]
  },
  {
   "cell_type": "code",
   "execution_count": 14,
   "metadata": {
    "collapsed": false
   },
   "outputs": [
    {
     "data": {
      "image/png": "[encoded data removed]",
      "text/plain": [
       "<matplotlib.figure.Figure at 0xd97c9b0>"
      ]
     },
     "metadata": {},
     "output_type": "display_data"
    }
   ],
   "source": [
    "#Plot for all x values, not as robust with respect to line formatting - lazy way\n",
    "ax = plot_xy(x,y)\n",
    "ax.plot(x, m*x+b, 'r--')\n",
    "plt.show()"
   ]
  },
  {
   "cell_type": "code",
   "execution_count": 15,
   "metadata": {
    "collapsed": false
   },
   "outputs": [
    {
     "data": {
      "image/png": "[encoded data removed]",
      "text/plain": [
       "<matplotlib.figure.Figure at 0xab2c8d0>"
      ]
     },
     "metadata": {},
     "output_type": "display_data"
    }
   ],
   "source": [
    "#Plot using only the end points of the line.  Allows for line customization\n",
    "ax = plot_xy(x,y)\n",
    "ax.plot([min(x), max(x)], [m*min(x)+b, m*max(x) + b], 'r--')\n",
    "plt.show()"
   ]
  },
  {
   "cell_type": "markdown",
   "metadata": {},
   "source": [
    "### Warnings when using linear regression\n",
    "* $R^2$ is a biased estimator, $R_{adj}^2$, called the adjusted $R^2$, is unbiased.   \n",
    "* $R^2$ is not everything.  What are the social implications of reporting your findings?  Is your trend serrendipitous?\n",
    "$${\\ }$$\n",
    "* Not all data is meant for linear regression.  Linear regression has four key assumptions:\n",
    "    * The means of the $y_i$'s associated with a respective $x_i$ are a linear function of $\\bf{x}$\n",
    "    * The errors of each prediction are independent\n",
    "    * The errors of each prediction at their repsective $x_i$ are normally distributed\n",
    "    * The errors of each prediction at their respective $x_i$ have equal variances.\n",
    "$${\\ }$$   \n",
    "* Correlation $\\bf{DOES{\\ }NOT}$ imply causation.  However, correlation can be used to make an argument for causation.  For one example, Granger Causality"
   ]
  }
 ],
 "metadata": {
  "kernelspec": {
   "display_name": "Python 2",
   "language": "python",
   "name": "python2"
  },
  "language_info": {
   "codemirror_mode": {
    "name": "ipython",
    "version": 2
   },
   "file_extension": ".py",
   "mimetype": "text/x-python",
   "name": "python",
   "nbconvert_exporter": "python",
   "pygments_lexer": "ipython2",
   "version": "2.7.13"
  }
 },
 "nbformat": 4,
 "nbformat_minor": 2
}
